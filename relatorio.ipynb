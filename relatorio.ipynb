{
 "cells": [
  {
   "cell_type": "markdown",
   "metadata": {},
   "source": [
    "# Análise de Dados - UFPB\n",
    "\n",
    "**Professor** : Marcus Carvalho\n",
    "\n",
    "Aluno: [Insira seu nome]\n",
    "\n",
    "## Laboratório: Análise Exploratória de Dados\n",
    "\n",
    "Você deve usar os dados de séries do IMDB (_Internet Movie DataBase_) para fazer uma análise exploratória de dados de um seriado. Os dados estão no arquivo `'dados/avaliacao_episodios_series_top.csv`. Você deve escolher uma das séries que estão no arquivo para analisar. A série deve ter no mínimo 4 temporadas para permitir uma análise mais detalhada. A análise deve ser feita neste relatório Jupyter Notebook.  O relatório já possui algumas perguntas a serem respondidas. Use as perguntas como base, mas não fique preso a elas. Você pode fazer novas perguntas e novas análises à vontade.\n",
    "\n",
    "Abaixo tem o código de exemplo para carregar os dados dos episódios e filtrar uma série específica. Modifique o código para filtra a série da sua escolha."
   ]
  },
  {
   "cell_type": "code",
   "execution_count": null,
   "metadata": {},
   "outputs": [
    {
     "ename": "",
     "evalue": "",
     "output_type": "error",
     "traceback": [
      "\u001b[1;31mFailed to start the Kernel. \n",
      "\u001b[1;31mUnable to start Kernel 'base (Python 3.11.5)' due to a timeout waiting for the ports to get used. \n",
      "\u001b[1;31mView Jupyter <a href='command:jupyter.viewOutput'>log</a> for further details."
     ]
    }
   ],
   "source": [
    "import pandas as pd\n",
    "import matplotlib.pyplot as plt\n",
    "import seaborn as sns\n",
    "import numpy as np\n",
    "\n",
    "\n",
    "# Substitua o filtro com o nome da série que você deseja analisar\n",
    "episodios = (\n",
    "    pd.read_csv('dados/avaliacao_episodios_series_top.csv')\n",
    "    .query(\"nome_serie == 'The Walking Dead'\")\n",
    ")\n",
    "episodios"
   ]
  },
  {
   "cell_type": "markdown",
   "metadata": {},
   "source": [
    "## 1  Popularidade dos episódios\n",
    "### 1.1 Qual a distribuição de votos que cada episódio teve?\n",
    "\n",
    "Explore a popularidade de cada episódio analisando a quantidade de votos que cada um recebeu (`num_votos`). Exiba visualizações das distribuções e calcule estatísticas de centralidade e dispersão para esta variável.\n"
   ]
  },
  {
   "cell_type": "code",
   "execution_count": null,
   "metadata": {},
   "outputs": [
    {
     "ename": "",
     "evalue": "",
     "output_type": "error",
     "traceback": [
      "\u001b[1;31mFailed to start the Kernel. \n",
      "\u001b[1;31mUnable to start Kernel 'base (Python 3.11.5)' due to a timeout waiting for the ports to get used. \n",
      "\u001b[1;31mView Jupyter <a href='command:jupyter.viewOutput'>log</a> for further details."
     ]
    }
   ],
   "source": [
    "from statistics import mode\n",
    "\n",
    "media = np.mean(episodios['num_votos'])\n",
    "mediana = np.median(episodios['num_votos'])\n",
    "moda = mode(episodios['num_votos'])\n",
    "variancia = np.var(episodios['num_votos'])\n",
    "desvio_padrao = np.std(episodios['num_votos'])\n",
    "\n",
    "resultados = (\n",
    "    \"Medidas de Centralidade:\\n\"\n",
    "    f\"Média: {media:.2f}\\n\"\n",
    "    f\"Mediana: {mediana}\\n\"\n",
    "    f\"Moda: {moda}\\n\\n\"\n",
    "    \"Medidas de Dispersão:\\n\"\n",
    "    f\"Variância: {variancia:.2f}\\n\"\n",
    "    f\"Desvio Padrão: {desvio_padrao:.2f}\\n\"\n",
    ")\n",
    "print(resultados)"
   ]
  },
  {
   "cell_type": "markdown",
   "metadata": {},
   "source": [
    "As medidas de centralidade mostram que no geral a média, mediana e a moda estão próximas uma das outras, significando dizer que o número de votos estão bem agrupados nestes valores, entretanto, as medidas de dispersão estão bem elevadas, o que significa dizer que por mais que boa parte dos episódios possuam um número de votos próximos de 12000, também há muitos epidóios \"fora da curva\" em termos de popularidade, possuindo um número de votos muito acima da média. O Gráfico 1.1 demonstra quão bem agrupados os dados estão em volta dos 12000 votos e quão distante estão os episódios mais populares em comparação com a média."
   ]
  },
  {
   "cell_type": "markdown",
   "metadata": {},
   "source": [
    "#### Gráfico 1.1"
   ]
  },
  {
   "cell_type": "code",
   "execution_count": null,
   "metadata": {},
   "outputs": [
    {
     "ename": "",
     "evalue": "",
     "output_type": "error",
     "traceback": [
      "\u001b[1;31mFailed to start the Kernel. \n",
      "\u001b[1;31mUnable to start Kernel 'base (Python 3.11.5)' due to a timeout waiting for the ports to get used. \n",
      "\u001b[1;31mView Jupyter <a href='command:jupyter.viewOutput'>log</a> for further details."
     ]
    }
   ],
   "source": [
    "# INSIRA SEU CÓDIGO AQUI\n",
    "fig, ax = plt.subplots(figsize=(5,4))\n",
    "ax.boxplot(episodios['num_votos'])\n",
    "ax.set_xlabel('Coluna')\n",
    "ax.set_ylabel('Número de votos')\n",
    "ax.set_title('Boxplot')\n",
    "plt.show()"
   ]
  },
  {
   "cell_type": "markdown",
   "metadata": {},
   "source": [
    "### 1.2 Qual o episódio mais popular (com mais votos)?"
   ]
  },
  {
   "cell_type": "code",
   "execution_count": null,
   "metadata": {},
   "outputs": [
    {
     "ename": "",
     "evalue": "",
     "output_type": "error",
     "traceback": [
      "\u001b[1;31mFailed to start the Kernel. \n",
      "\u001b[1;31mUnable to start Kernel 'base (Python 3.11.5)' due to a timeout waiting for the ports to get used. \n",
      "\u001b[1;31mView Jupyter <a href='command:jupyter.viewOutput'>log</a> for further details."
     ]
    }
   ],
   "source": [
    "# INSIRA SEU CÓDIGO AQUI\n",
    "episodios.sort_values(by=\"num_votos\", ascending=False).head(1)"
   ]
  },
  {
   "cell_type": "markdown",
   "metadata": {},
   "source": [
    "O primeiro episódio da sétima temporada, intitulado \"The Day Will Como Whe You Won't Be\", ou em português \"Chegará o Dia em Que Você Não Agradecerá\", é o mais popular de toda a série, possuindo 44236 votos, um valor muito acima do padrão da série."
   ]
  },
  {
   "cell_type": "markdown",
   "metadata": {},
   "source": [
    "### 1.3 Qual o episódio menos popular (com menos votos)?"
   ]
  },
  {
   "cell_type": "code",
   "execution_count": null,
   "metadata": {},
   "outputs": [
    {
     "ename": "",
     "evalue": "",
     "output_type": "error",
     "traceback": [
      "\u001b[1;31mFailed to start the Kernel. \n",
      "\u001b[1;31mUnable to start Kernel 'base (Python 3.11.5)' due to a timeout waiting for the ports to get used. \n",
      "\u001b[1;31mView Jupyter <a href='command:jupyter.viewOutput'>log</a> for further details."
     ]
    }
   ],
   "source": [
    "# INSIRA SEU CÓDIGO AQUI\n",
    "episodios.sort_values(by=\"num_votos\").head(1)"
   ]
  },
  {
   "cell_type": "markdown",
   "metadata": {},
   "source": [
    "O primeiro episódio da sétima temporada, intitulado \"Variant\", ou em português \"Variante\", é o mais popular de toda a série, possuindo 5099 votos, um valor um pouco abaixo do padrão da série."
   ]
  },
  {
   "cell_type": "markdown",
   "metadata": {},
   "source": [
    "### 1.4 Qual a temporada mais popular?"
   ]
  },
  {
   "cell_type": "code",
   "execution_count": null,
   "metadata": {},
   "outputs": [
    {
     "ename": "",
     "evalue": "",
     "output_type": "error",
     "traceback": [
      "\u001b[1;31mFailed to start the Kernel. \n",
      "\u001b[1;31mUnable to start Kernel 'base (Python 3.11.5)' due to a timeout waiting for the ports to get used. \n",
      "\u001b[1;31mView Jupyter <a href='command:jupyter.viewOutput'>log</a> for further details."
     ]
    }
   ],
   "source": [
    "# INSIRA SEU CÓDIGO AQUI\n",
    "media_votos = episodios.groupby('temporada')['num_votos'].mean()\n",
    "media_votos.sort_values(ascending=False)"
   ]
  },
  {
   "cell_type": "markdown",
   "metadata": {},
   "source": [
    "A primeira temporada  segue sendo a temporada mais popular, em seguida vêm a sexta e segunda temporada, completanto assim o top 3 temporadas mais populares. É possivel perceber um padrão na popularidade da série, a medida que as temporadas avançam sua popularidade caí, fazendo com que cada temporada tenha menos votos que a anterior, exceto em casos especiais, como na sexta, sétima e terceira temporada. O Gráfico 1.2 demonstra visualmente a queda de popularidade da série com o passar das temporadas."
   ]
  },
  {
   "cell_type": "markdown",
   "metadata": {},
   "source": [
    "#### Gráfico 1.2"
   ]
  },
  {
   "cell_type": "code",
   "execution_count": null,
   "metadata": {},
   "outputs": [
    {
     "ename": "",
     "evalue": "",
     "output_type": "error",
     "traceback": [
      "\u001b[1;31mFailed to start the Kernel. \n",
      "\u001b[1;31mUnable to start Kernel 'base (Python 3.11.5)' due to a timeout waiting for the ports to get used. \n",
      "\u001b[1;31mView Jupyter <a href='command:jupyter.viewOutput'>log</a> for further details."
     ]
    }
   ],
   "source": [
    "plt.bar(media_votos.index, media_votos.values, color='blue')\n",
    "\n",
    "plt.xlabel('Temporadas')\n",
    "plt.ylabel('Média de votos')\n",
    "plt.title('Média de votos por temporada')\n",
    "plt.show()"
   ]
  },
  {
   "cell_type": "markdown",
   "metadata": {},
   "source": [
    "Apesar de algumas temporadas terem em média uma popularidade baixa, alguns de seus episódios possuem uma popularidade acima do padrão da série, como é o caso da sétima temporada que possui o episódio mais popular da série, porém possui uma média de popularidade baixa. O Gráfico 1.3 apresenta visualmente quão distoantes são estes episódios em comparação com a média de suas respectivas temporadas."
   ]
  },
  {
   "cell_type": "markdown",
   "metadata": {},
   "source": [
    "#### Gráfico 1.3"
   ]
  },
  {
   "cell_type": "code",
   "execution_count": null,
   "metadata": {},
   "outputs": [
    {
     "ename": "",
     "evalue": "",
     "output_type": "error",
     "traceback": [
      "\u001b[1;31mFailed to start the Kernel. \n",
      "\u001b[1;31mUnable to start Kernel 'base (Python 3.11.5)' due to a timeout waiting for the ports to get used. \n",
      "\u001b[1;31mView Jupyter <a href='command:jupyter.viewOutput'>log</a> for further details."
     ]
    }
   ],
   "source": [
    "ax = episodios.boxplot(by='temporada',\n",
    "  column='num_votos', figsize=(6, 5))"
   ]
  },
  {
   "cell_type": "markdown",
   "metadata": {},
   "source": [
    "### 1.5 Qual a temporada menos popular?"
   ]
  },
  {
   "cell_type": "code",
   "execution_count": null,
   "metadata": {},
   "outputs": [
    {
     "ename": "",
     "evalue": "",
     "output_type": "error",
     "traceback": [
      "\u001b[1;31mFailed to start the Kernel. \n",
      "\u001b[1;31mUnable to start Kernel 'base (Python 3.11.5)' due to a timeout waiting for the ports to get used. \n",
      "\u001b[1;31mView Jupyter <a href='command:jupyter.viewOutput'>log</a> for further details."
     ]
    }
   ],
   "source": [
    "# INSIRA SEU CÓDIGO AQUI\n",
    "media_votos.sort_values().head(1)"
   ]
  },
  {
   "cell_type": "markdown",
   "metadata": {},
   "source": [
    "Como foi visto anteriormente no subtópico 1.4, a popularidade da serie decaiu com o passar das temporadas. Sendo assim, a última temporada é a menos popular."
   ]
  },
  {
   "cell_type": "markdown",
   "metadata": {},
   "source": [
    "## 2 Qualidade dos episódios\n",
    "\n",
    "### 2.1 Qual a distribuição de avaliações que cada episódio teve?\n",
    "\n",
    "Explore a qualidade de cada episódio analisando a avaliação média que cada um recebeu (`avaliacao_media`). Exiba visualizações das distribuções e calcule estatísticas de centralidade e dispersão para esta variável.\n"
   ]
  },
  {
   "cell_type": "code",
   "execution_count": null,
   "metadata": {},
   "outputs": [
    {
     "ename": "",
     "evalue": "",
     "output_type": "error",
     "traceback": [
      "\u001b[1;31mFailed to start the Kernel. \n",
      "\u001b[1;31mUnable to start Kernel 'base (Python 3.11.5)' due to a timeout waiting for the ports to get used. \n",
      "\u001b[1;31mView Jupyter <a href='command:jupyter.viewOutput'>log</a> for further details."
     ]
    }
   ],
   "source": [
    "media = np.mean(episodios['avaliacao_media'])\n",
    "mediana = np.median(episodios['avaliacao_media'])\n",
    "moda = mode(episodios['avaliacao_media'])\n",
    "variancia = np.var(episodios['avaliacao_media'])\n",
    "desvio_padrao = np.std(episodios['avaliacao_media'])\n",
    "\n",
    "resultados = (\n",
    "    \"Medidas de Centralidade:\\n\"\n",
    "    f\"Média: {media:.2f}\\n\"\n",
    "    f\"Mediana: {mediana}\\n\"\n",
    "    f\"Moda: {moda}\\n\\n\"\n",
    "    \"Medidas de Dispersão:\\n\"\n",
    "    f\"Variância: {variancia:.2f}\\n\"\n",
    "    f\"Desvio Padrão: {desvio_padrao:.2f}\\n\"\n",
    ")\n",
    "print(resultados)"
   ]
  },
  {
   "cell_type": "markdown",
   "metadata": {},
   "source": [
    "As medidas de centralidade nos mostram que as avaliações recebidas pela série estão bem agrupadas em volta da sua média, possuindo uma mediana e moda quase igual ao valor da média. As medidas de dispersão evidenciam uma variância e desvio padrão moderados, sugerindo que não há uma grande dispersão de dados em volta da média. O Gráfico 2.1 expressa quão bem os dados estão agrupados em volta de sua mediana/média, contento apenas alguns poucos valores distantantes da média."
   ]
  },
  {
   "cell_type": "markdown",
   "metadata": {},
   "source": [
    "#### Gráfico 2.1"
   ]
  },
  {
   "cell_type": "code",
   "execution_count": null,
   "metadata": {},
   "outputs": [
    {
     "ename": "",
     "evalue": "",
     "output_type": "error",
     "traceback": [
      "\u001b[1;31mFailed to start the Kernel. \n",
      "\u001b[1;31mUnable to start Kernel 'base (Python 3.11.5)' due to a timeout waiting for the ports to get used. \n",
      "\u001b[1;31mView Jupyter <a href='command:jupyter.viewOutput'>log</a> for further details."
     ]
    }
   ],
   "source": [
    "# INSIRA SEU CÓDIGO AQUI\n",
    "fig, ax = plt.subplots(figsize=(5,4))\n",
    "ax.boxplot(episodios['avaliacao_media'])\n",
    "ax.set_xlabel('Coluna')\n",
    "ax.set_ylabel('Notas dos episódios')\n",
    "ax.set_title('Boxplot')\n",
    "plt.show()"
   ]
  },
  {
   "cell_type": "markdown",
   "metadata": {},
   "source": [
    "### 2.2 Qual o melhor episódio da série de acordo com as avaliações do IMDB?"
   ]
  },
  {
   "cell_type": "code",
   "execution_count": null,
   "metadata": {},
   "outputs": [
    {
     "ename": "",
     "evalue": "",
     "output_type": "error",
     "traceback": [
      "\u001b[1;31mFailed to start the Kernel. \n",
      "\u001b[1;31mUnable to start Kernel 'base (Python 3.11.5)' due to a timeout waiting for the ports to get used. \n",
      "\u001b[1;31mView Jupyter <a href='command:jupyter.viewOutput'>log</a> for further details."
     ]
    }
   ],
   "source": [
    "# INSIRA SEU CÓDIGO AQUI\n",
    "episodios.sort_values(by=\"avaliacao_media\", ascending=False).head(1)"
   ]
  },
  {
   "cell_type": "markdown",
   "metadata": {},
   "source": [
    "O primeiro episódio da quinta temporada da série, entitulado é \"No Sanctuary\", ou \"Sem Refúgio\" em português, é o episódio com melhor avaliação em toda a série.\n"
   ]
  },
  {
   "cell_type": "markdown",
   "metadata": {},
   "source": [
    "### 2.3 Qual o pior episódio da série de acordo com as avaliações do IMDB?"
   ]
  },
  {
   "cell_type": "code",
   "execution_count": null,
   "metadata": {},
   "outputs": [
    {
     "ename": "",
     "evalue": "",
     "output_type": "error",
     "traceback": [
      "\u001b[1;31mFailed to start the Kernel. \n",
      "\u001b[1;31mUnable to start Kernel 'base (Python 3.11.5)' due to a timeout waiting for the ports to get used. \n",
      "\u001b[1;31mView Jupyter <a href='command:jupyter.viewOutput'>log</a> for further details."
     ]
    }
   ],
   "source": [
    "# INSIRA SEU CÓDIGO AQUI\n",
    "episodios.sort_values(by=\"avaliacao_media\").head(1)"
   ]
  },
  {
   "cell_type": "markdown",
   "metadata": {},
   "source": [
    "O vigéssimo primeiro episódio da décima temporada da série, entitulado é \"Divergent\", ou \"Divergido\" em português, é o episódio com a pior avaliação em toda a série."
   ]
  },
  {
   "cell_type": "markdown",
   "metadata": {},
   "source": [
    "### 2.4 Qual a melhor temporada da série de acordo com as avaliações do IMDB?"
   ]
  },
  {
   "cell_type": "code",
   "execution_count": null,
   "metadata": {},
   "outputs": [
    {
     "ename": "",
     "evalue": "",
     "output_type": "error",
     "traceback": [
      "\u001b[1;31mFailed to start the Kernel. \n",
      "\u001b[1;31mUnable to start Kernel 'base (Python 3.11.5)' due to a timeout waiting for the ports to get used. \n",
      "\u001b[1;31mView Jupyter <a href='command:jupyter.viewOutput'>log</a> for further details."
     ]
    }
   ],
   "source": [
    "# INSIRA SEU CÓDIGO AQUI\n",
    "media_avaliacao = episodios.groupby('temporada')['avaliacao_media'].mean()\n",
    "media_avaliacao.sort_values(ascending=False)"
   ]
  },
  {
   "cell_type": "markdown",
   "metadata": {},
   "source": [
    "A primeira temporada é a melhor de toda a série, seguida pela terceira e a quinta temporada, formando assim o top 3 temporadas mais bem avaliadas da série. É notório que no geral a avaliação das temporadas são bem próximas uma das outras, sem possuirem valores muito abaixo ou acima da média da série, demonstrando assim uma média de qualidade relativamente consistente. O Gráfico 2.2 evidencia essa baixa disparidade entre a avalições das temporadas."
   ]
  },
  {
   "cell_type": "markdown",
   "metadata": {},
   "source": [
    "#### Gráfico 2.2"
   ]
  },
  {
   "cell_type": "code",
   "execution_count": null,
   "metadata": {},
   "outputs": [
    {
     "ename": "",
     "evalue": "",
     "output_type": "error",
     "traceback": [
      "\u001b[1;31mFailed to start the Kernel. \n",
      "\u001b[1;31mUnable to start Kernel 'base (Python 3.11.5)' due to a timeout waiting for the ports to get used. \n",
      "\u001b[1;31mView Jupyter <a href='command:jupyter.viewOutput'>log</a> for further details."
     ]
    }
   ],
   "source": [
    "plt.bar(media_avaliacao.index, media_avaliacao.values, color='blue')\n",
    "\n",
    "plt.xlabel('Temporadas')\n",
    "plt.ylabel('avaliação média')\n",
    "plt.title('Avaliação média por temporada')\n",
    "plt.show()"
   ]
  },
  {
   "cell_type": "markdown",
   "metadata": {},
   "source": [
    "No geral, todas as temporadas tem média de avaliação entre 7 e 8.5, entretanto, quase todas possuem variação nas notas de seus episódios, como no caso da décima temporada, que possui episódios tanto com nota acima de 9.0, quanto episódio com nota abaixo de 4.5, demonstrando possuir uma alta inconsistência nas avaliações de seus episódios. O Gráfico 2.3 apresenta visualmente esta variação entre a nota de alguns episódios e a média de avaliação de sua temporada."
   ]
  },
  {
   "cell_type": "markdown",
   "metadata": {},
   "source": [
    "#### Gráfico 2.3"
   ]
  },
  {
   "cell_type": "code",
   "execution_count": null,
   "metadata": {},
   "outputs": [
    {
     "ename": "",
     "evalue": "",
     "output_type": "error",
     "traceback": [
      "\u001b[1;31mFailed to start the Kernel. \n",
      "\u001b[1;31mUnable to start Kernel 'base (Python 3.11.5)' due to a timeout waiting for the ports to get used. \n",
      "\u001b[1;31mView Jupyter <a href='command:jupyter.viewOutput'>log</a> for further details."
     ]
    }
   ],
   "source": [
    "ax = episodios.boxplot(by='temporada',\n",
    "  column='avaliacao_media', figsize=(6, 5))"
   ]
  },
  {
   "cell_type": "markdown",
   "metadata": {},
   "source": [
    "### 2.5 Qual a pior temporada da série de acordo com as avaliações do IMDB?"
   ]
  },
  {
   "cell_type": "code",
   "execution_count": null,
   "metadata": {},
   "outputs": [
    {
     "ename": "",
     "evalue": "",
     "output_type": "error",
     "traceback": [
      "\u001b[1;31mFailed to start the Kernel. \n",
      "\u001b[1;31mUnable to start Kernel 'base (Python 3.11.5)' due to a timeout waiting for the ports to get used. \n",
      "\u001b[1;31mView Jupyter <a href='command:jupyter.viewOutput'>log</a> for further details."
     ]
    }
   ],
   "source": [
    "# INSIRA SEU CÓDIGO AQUI\n",
    "media_avaliacao.sort_values().head(1)"
   ]
  },
  {
   "cell_type": "markdown",
   "metadata": {},
   "source": [
    "A oitava temporada possui a pior avaliação dentre todas as temporadas, tendo uma avaliação média de 7.07"
   ]
  },
  {
   "cell_type": "markdown",
   "metadata": {},
   "source": [
    "## 3 Relação entre variáveis\n",
    "\n",
    "Analise a relação entre as variáveis referentes a cada episódio. Explore visualmente a relação entre elas e calcula estatísticas de correlação."
   ]
  },
  {
   "cell_type": "markdown",
   "metadata": {},
   "source": [
    "### 3.1 Existe alguma relação entre a quantidade de votos recebida e a avaliação média dos episódios?"
   ]
  },
  {
   "cell_type": "markdown",
   "metadata": {},
   "source": [
    "#### Gráfico 3.1"
   ]
  },
  {
   "cell_type": "code",
   "execution_count": null,
   "metadata": {},
   "outputs": [
    {
     "ename": "",
     "evalue": "",
     "output_type": "error",
     "traceback": [
      "\u001b[1;31mFailed to start the Kernel. \n",
      "\u001b[1;31mUnable to start Kernel 'base (Python 3.11.5)' due to a timeout waiting for the ports to get used. \n",
      "\u001b[1;31mView Jupyter <a href='command:jupyter.viewOutput'>log</a> for further details."
     ]
    }
   ],
   "source": [
    "# INSIRA SEU CÓDIGO AQUI\n",
    "sns.lmplot(\n",
    "    data=episodios, x=\"num_votos\", y=\"avaliacao_media\", col=\"temporada\", hue=\"temporada\",\n",
    "    col_wrap=4, palette=\"muted\", ci=None,\n",
    "    height=4, scatter_kws={\"s\": 20, \"alpha\": 1}\n",
    ")\n"
   ]
  },
  {
   "cell_type": "markdown",
   "metadata": {},
   "source": [
    "Anilisando linearmente, apenas algumas temporadas possuem uma fraca ou média correlação entre o número de votos e a avaliação média dos episódios, entretanto, é incorreto afirmar que não existe correlação entre estas variáveis apenas com esta análise. Tentaremos a seguir outros métodos de avaliar correlação e comparar os resultados com os atuais."
   ]
  },
  {
   "cell_type": "code",
   "execution_count": null,
   "metadata": {},
   "outputs": [
    {
     "ename": "",
     "evalue": "",
     "output_type": "error",
     "traceback": [
      "\u001b[1;31mFailed to start the Kernel. \n",
      "\u001b[1;31mUnable to start Kernel 'base (Python 3.11.5)' due to a timeout waiting for the ports to get used. \n",
      "\u001b[1;31mView Jupyter <a href='command:jupyter.viewOutput'>log</a> for further details."
     ]
    }
   ],
   "source": [
    "pd.Series({\n",
    "    'pearson': episodios.num_votos.corr(episodios.num_episodio, method='pearson'),\n",
    "    'spearman': episodios.num_votos.corr(episodios.num_episodio, method='spearman'),\n",
    "    'kendall': episodios.num_votos.corr(episodios.num_episodio, method='kendall')\n",
    "}, name='correlacao').to_frame()"
   ]
  },
  {
   "cell_type": "markdown",
   "metadata": {},
   "source": [
    "Analisando os dados com outros métodos, é póssivel enxergar a correlação geral dos dados, sem separa-los por temporadas. Apartir das correlações Pearson, Kendall e Spearman chegamos aos seguintes resultados:\n",
    "\n",
    "* A correlação Pearson indica uma correlação positiva fraca entre os dados, pois está entre 0.3 e 0.5;\n",
    "\n",
    "* A correlação Spearman mostra que há uma correlação possitiva moderada entre os dados, pois estão entre 0.5 e 0.7;\n",
    "\n",
    "* A correlação Kendall aponta uma média concordância entre as classificação das duas variáveis, pois seu valor está no meio de 0 e 1.\n",
    "\n",
    "Em resumo é presumível que há uma correlação positiva entre as váriaveis, mesmo não sendo uma correlação forte."
   ]
  },
  {
   "cell_type": "markdown",
   "metadata": {},
   "source": [
    "### 3.2 Existe alguma relação entre a quantidade de votos recebida e o número do episódio?"
   ]
  },
  {
   "cell_type": "markdown",
   "metadata": {},
   "source": [
    "#### Gráfico 3.2"
   ]
  },
  {
   "cell_type": "code",
   "execution_count": null,
   "metadata": {},
   "outputs": [
    {
     "ename": "",
     "evalue": "",
     "output_type": "error",
     "traceback": [
      "\u001b[1;31mFailed to start the Kernel. \n",
      "\u001b[1;31mUnable to start Kernel 'base (Python 3.11.5)' due to a timeout waiting for the ports to get used. \n",
      "\u001b[1;31mView Jupyter <a href='command:jupyter.viewOutput'>log</a> for further details."
     ]
    }
   ],
   "source": [
    "# INSIRA SEU CÓDIGO AQUI\n",
    "sns.lmplot(\n",
    "    data=episodios, x=\"num_votos\", y=\"num_episodio\", col=\"temporada\", hue=\"temporada\",\n",
    "    col_wrap=4, palette=\"muted\", ci=None,\n",
    "    height=4, scatter_kws={\"s\": 20, \"alpha\": 1}\n",
    ")"
   ]
  },
  {
   "cell_type": "markdown",
   "metadata": {},
   "source": [
    "Utilizando a correlação linear, é notório apenas algumas temporadas seguem um padrão quanto ao número de episódio e seu número de votos e, ainda assim, as que seguem um padrão em sua tendem a possuir um correlação negativa, dando a entender quanto menor o número do episódio maior é sua avaliação."
   ]
  },
  {
   "cell_type": "code",
   "execution_count": null,
   "metadata": {},
   "outputs": [
    {
     "ename": "",
     "evalue": "",
     "output_type": "error",
     "traceback": [
      "\u001b[1;31mFailed to start the Kernel. \n",
      "\u001b[1;31mUnable to start Kernel 'base (Python 3.11.5)' due to a timeout waiting for the ports to get used. \n",
      "\u001b[1;31mView Jupyter <a href='command:jupyter.viewOutput'>log</a> for further details."
     ]
    }
   ],
   "source": [
    "pd.Series({\n",
    "    'pearson': episodios.num_votos.corr(episodios.num_episodio, method='pearson'),\n",
    "    'spearman': episodios.num_votos.corr(episodios.num_episodio, method='spearman'),\n",
    "    'kendall': episodios.num_votos.corr(episodios.num_episodio, method='kendall')\n",
    "}, name='correlacao').to_frame()"
   ]
  },
  {
   "cell_type": "markdown",
   "metadata": {},
   "source": [
    "Utilizando-se de outros métodos, é póssivel enxergar a correlação geral dos dados, sem separa-los por temporadas. A partir das correlações de Pearson, Spearman e Kendall, podemos chegar a resultados mais precisos a respeito dos dados, como veremos a seguir: \n",
    "\n",
    "* A correlação Pearson indica que não há uma correlação, afinal os dados estão muito próximos de 0;\n",
    "\n",
    "* A correlação Spearman mostra que há uma correlação negativa fraca entre os dados, pois estão entre -0.3 e -0.5;\n",
    "\n",
    "* A correlação Kendall aponta uma fraca discordância entre as classificação das duas variáveis, pois seu valor está muito próximo de 0.\n",
    "\n",
    "Em resumo é evidente que há uma fraca correlação negativa entre as variáveis. Isso sugere que, à medida que uma variável aumenta, a outra tende a diminuir um pouco, mas não de forma muito impactante."
   ]
  },
  {
   "cell_type": "markdown",
   "metadata": {},
   "source": [
    "## 4 Padrões temporais\n",
    "\n",
    "Explore as avaliações de temporadas e episódios ao longo do tempo."
   ]
  },
  {
   "cell_type": "markdown",
   "metadata": {},
   "source": [
    "### 4.1 As primeiras temporadas são melhor avaliadas do que as últimas?"
   ]
  },
  {
   "cell_type": "code",
   "execution_count": null,
   "metadata": {},
   "outputs": [
    {
     "ename": "",
     "evalue": "",
     "output_type": "error",
     "traceback": [
      "\u001b[1;31mFailed to start the Kernel. \n",
      "\u001b[1;31mUnable to start Kernel 'base (Python 3.11.5)' due to a timeout waiting for the ports to get used. \n",
      "\u001b[1;31mView Jupyter <a href='command:jupyter.viewOutput'>log</a> for further details."
     ]
    }
   ],
   "source": [
    "# INSIRA SEU CÓDIGO AQUI\n",
    "resultados = episodios.groupby('temporada')['avaliacao_media'].agg(['mean', 'std'])\n",
    "resultados"
   ]
  },
  {
   "cell_type": "markdown",
   "metadata": {},
   "source": [
    "Como é possivel notar, as primeiras temporadas são melhores avaliadas que as ultimas e também possuem mais consistência em suas avaliações, possuindo baixo desvio padrão. Entretanto, como já foi visto no subtópico 2.4, não há uma grande discrepância entre as avaliações das temporadas, pois suas médias de avaliação são bem próximas umas das outras. Para uma representação visual veja o Gráfico 2.2."
   ]
  },
  {
   "cell_type": "markdown",
   "metadata": {},
   "source": [
    "### 4.2 Os episódios no fim das temporadas são melhor avaliados do que os do início?"
   ]
  },
  {
   "cell_type": "markdown",
   "metadata": {},
   "source": [
    "Para analisarmos melhor estes dados, usaremos o Gráfico 4.1 para vermos a dispersão dos episódios por temporada e averiguarmos se há alguma tendência dos primeiros episódios serem melhor avaliados que os últimos."
   ]
  },
  {
   "cell_type": "markdown",
   "metadata": {},
   "source": [
    "#### Gráfico 4.1"
   ]
  },
  {
   "cell_type": "code",
   "execution_count": null,
   "metadata": {},
   "outputs": [
    {
     "ename": "",
     "evalue": "",
     "output_type": "error",
     "traceback": [
      "\u001b[1;31mFailed to start the Kernel. \n",
      "\u001b[1;31mUnable to start Kernel 'base (Python 3.11.5)' due to a timeout waiting for the ports to get used. \n",
      "\u001b[1;31mView Jupyter <a href='command:jupyter.viewOutput'>log</a> for further details."
     ]
    }
   ],
   "source": [
    "sns.set(style=\"whitegrid\")\n",
    "g = sns.FacetGrid(episodios, col=\"temporada\", col_wrap=4, height=3, margin_titles=True)\n",
    "g.map(plt.scatter, \"num_episodio\", \"avaliacao_media\", color=\"blue\", alpha=0.5)\n",
    "g.set_axis_labels(\"Número do Episódio\", \"Avaliação Média\")\n",
    "g.fig.suptitle(\"Avaliação Média por Episódio e Temporada\", fontsize=16)\n",
    "\n",
    "for ax, color in zip(g.axes.flat, sns.color_palette(\"tab10\", n_colors=len(episodios['temporada'].unique()))):\n",
    "    ax.collections[0].set_facecolor(color)\n",
    "\n",
    "plt.subplots_adjust(top=0.9, hspace=0.5)\n",
    "plt.show()"
   ]
  },
  {
   "cell_type": "markdown",
   "metadata": {},
   "source": [
    "É notório que a série não possui um padrão em que o início das temporadas é melhor avaliado que o final, ou vice e versa, é mais como se algumas temporadas possuem um começo melhor enquanto outras possuem um final melhor avaliado. Podemos dizer então que é uma série ambígua neste quesito, afinal ela possuí temporadas cujos episódios finais são melhor avaliados, mas também ocorre o inverso em outras temporadas."
   ]
  },
  {
   "cell_type": "markdown",
   "metadata": {},
   "source": [
    "### Qual é a temporada mais regular? (com menor variação de avaliações)"
   ]
  },
  {
   "cell_type": "code",
   "execution_count": null,
   "metadata": {},
   "outputs": [
    {
     "ename": "",
     "evalue": "",
     "output_type": "error",
     "traceback": [
      "\u001b[1;31mFailed to start the Kernel. \n",
      "\u001b[1;31mUnable to start Kernel 'base (Python 3.11.5)' due to a timeout waiting for the ports to get used. \n",
      "\u001b[1;31mView Jupyter <a href='command:jupyter.viewOutput'>log</a> for further details."
     ]
    }
   ],
   "source": [
    "# INSIRA SEU CÓDIGO AQUI\n",
    "resultados = episodios.groupby('temporada')['avaliacao_media'].agg(['mean', 'std'])\n",
    "resultados.sort_values(by='std').head(11)"
   ]
  },
  {
   "cell_type": "markdown",
   "metadata": {},
   "source": [
    "A primeira temporada além de ser a melhor avaliada, também possui o menor desvio padrão dentre as demais, demontrando consistência na avaliação de seus episódios. O gráfico 2.3 demonstra esta regularidade nas avaliações de seus episódios."
   ]
  },
  {
   "cell_type": "markdown",
   "metadata": {},
   "source": [
    "### Qual é a temporada mais instável? (com maior variação de avaliações)"
   ]
  },
  {
   "cell_type": "code",
   "execution_count": null,
   "metadata": {},
   "outputs": [
    {
     "ename": "",
     "evalue": "",
     "output_type": "error",
     "traceback": [
      "\u001b[1;31mFailed to start the Kernel. \n",
      "\u001b[1;31mUnable to start Kernel 'base (Python 3.11.5)' due to a timeout waiting for the ports to get used. \n",
      "\u001b[1;31mView Jupyter <a href='command:jupyter.viewOutput'>log</a> for further details."
     ]
    }
   ],
   "source": [
    "# INSIRA SEU CÓDIGO AQUI\n",
    "resultados = episodios.groupby('temporada')['avaliacao_media'].agg(['mean', 'std'])\n",
    "resultados.sort_values(by='std', ascending=False).head(1)"
   ]
  },
  {
   "cell_type": "markdown",
   "metadata": {},
   "source": [
    "A décima temporada é a com maior variância, tendo seu variância pouco acima de 1, demonstrando possuir baixa consistência nas avaliações de seus episódios, sendo uma temporada de altos e baixos. Os Gráficos 2.3 e 4.1 apresentam a variação que esta temporada possui em relação à avaliação de seus episódios."
   ]
  },
  {
   "cell_type": "markdown",
   "metadata": {},
   "source": [
    "## 5 Valores incomuns\n",
    "\n",
    "Existem outliers nos dados?"
   ]
  },
  {
   "cell_type": "markdown",
   "metadata": {},
   "source": [
    "### 5.1 Existem episódios outliers em termos de popularidade?"
   ]
  },
  {
   "cell_type": "markdown",
   "metadata": {},
   "source": [
    "Para esta análise categorizaremos outliers os episódios cujo número de votos passe a média da série somada com três vezes o desvio padrão, ou episódios cuja nota seja inferior à média da série subtraida por três vezes o desvio padrão."
   ]
  },
  {
   "cell_type": "code",
   "execution_count": null,
   "metadata": {},
   "outputs": [
    {
     "ename": "",
     "evalue": "",
     "output_type": "error",
     "traceback": [
      "\u001b[1;31mFailed to start the Kernel. \n",
      "\u001b[1;31mUnable to start Kernel 'base (Python 3.11.5)' due to a timeout waiting for the ports to get used. \n",
      "\u001b[1;31mView Jupyter <a href='command:jupyter.viewOutput'>log</a> for further details."
     ]
    }
   ],
   "source": [
    "# INSIRA SEU CÓDIGO AQUI\n",
    "media = episodios['num_votos'].mean()\n",
    "desvio_padrao = episodios['num_votos'].std()\n",
    "\n",
    "\n",
    "limite_maximo = media + 3 * desvio_padrao\n",
    "limite_minino = media - 3 * desvio_padrao\n",
    "\n",
    "outliers = episodios[(episodios['num_votos'] > limite_maximo) | (episodios['num_votos'] < limite_minino)]\n",
    "\n",
    "print(\"Outliers:\")\n",
    "print(outliers.to_string(index=False))\n"
   ]
  },
  {
   "cell_type": "markdown",
   "metadata": {},
   "source": [
    "Se formos analisar a média de popularidade geral da série, podemos vê há sim alguns episódios outliers, além disso, é possível notar que os há apenas episódios outliers com número de votos acima da média, validando que a série possui um número de votos consistentes com a média ou acima dela, mas nunca muito abaixo dela. O Gráfico 5.1 mostra como está a distribuição de votos da série."
   ]
  },
  {
   "cell_type": "markdown",
   "metadata": {},
   "source": [
    "#### Gráfico 5.1"
   ]
  },
  {
   "cell_type": "code",
   "execution_count": null,
   "metadata": {},
   "outputs": [
    {
     "ename": "",
     "evalue": "",
     "output_type": "error",
     "traceback": [
      "\u001b[1;31mFailed to start the Kernel. \n",
      "\u001b[1;31mUnable to start Kernel 'base (Python 3.11.5)' due to a timeout waiting for the ports to get used. \n",
      "\u001b[1;31mView Jupyter <a href='command:jupyter.viewOutput'>log</a> for further details."
     ]
    }
   ],
   "source": [
    "sns.violinplot(y=episodios['num_votos'])\n",
    "plt.title('Distribuição do Número de Votos')\n",
    "plt.xlabel('Episódios')\n",
    "plt.ylabel('Número de Votos')\n",
    "plt.show()"
   ]
  },
  {
   "cell_type": "markdown",
   "metadata": {},
   "source": [
    "Agora analisaremos com base na popularidade média de suas respectivas temporadas, usando o mesmo método para categorizar um episódio como outlier e vejamos o que ocorre:"
   ]
  },
  {
   "cell_type": "code",
   "execution_count": null,
   "metadata": {},
   "outputs": [
    {
     "ename": "",
     "evalue": "",
     "output_type": "error",
     "traceback": [
      "\u001b[1;31mFailed to start the Kernel. \n",
      "\u001b[1;31mUnable to start Kernel 'base (Python 3.11.5)' due to a timeout waiting for the ports to get used. \n",
      "\u001b[1;31mView Jupyter <a href='command:jupyter.viewOutput'>log</a> for further details."
     ]
    }
   ],
   "source": [
    "media_por_temporada = episodios.groupby('temporada')['num_votos'].mean()\n",
    "desvio_padrao_por_temporada = episodios.groupby('temporada')['num_votos'].std()\n",
    "\n",
    "outliers_por_temporada = {}\n",
    "for temporada, media, desvio_padrao in zip(media_por_temporada.index, media_por_temporada.values, desvio_padrao_por_temporada.values):\n",
    "    limite_superior = media + 3 * desvio_padrao\n",
    "    limite_inferior = media - 3 * desvio_padrao\n",
    "    outliers_temporada = episodios[(episodios['temporada'] == temporada) & ((episodios['num_votos'] > limite_superior) | (episodios['num_votos'] < limite_inferior))]\n",
    "    if not outliers_temporada.empty:\n",
    "        outliers_por_temporada[temporada] = outliers_temporada\n",
    "\n",
    "\n",
    "for temporada, outliers in outliers_por_temporada.items():\n",
    "    print(f\"Outliers da temporada {temporada}:\")\n",
    "    print(outliers.to_string(index=False))\n",
    "    print(\"\\n\")\n",
    "\n"
   ]
  },
  {
   "cell_type": "markdown",
   "metadata": {},
   "source": [
    "Analisando pela média de popularidade por temporada é perceptível que obtemos um número de outliers parecidos com os outliers obtidos pela média geral de popularidade da série, entretanto, a maioria dos outliers obtidos são diferentes dos que consguimos anteriormente, demonstrando que alguns episódios se encaixam na média de popularidade geral da série, mas não na média de popularidade de sua respectiva temporada. O Gráfico 5.2 exibe como fica a distribuição de votos por temporada."
   ]
  },
  {
   "cell_type": "markdown",
   "metadata": {},
   "source": [
    "#### Gráfico 5.2"
   ]
  },
  {
   "cell_type": "code",
   "execution_count": null,
   "metadata": {},
   "outputs": [
    {
     "ename": "",
     "evalue": "",
     "output_type": "error",
     "traceback": [
      "\u001b[1;31mFailed to start the Kernel. \n",
      "\u001b[1;31mUnable to start Kernel 'base (Python 3.11.5)' due to a timeout waiting for the ports to get used. \n",
      "\u001b[1;31mView Jupyter <a href='command:jupyter.viewOutput'>log</a> for further details."
     ]
    }
   ],
   "source": [
    "sns.set(style=\"whitegrid\")\n",
    "\n",
    "num_colunas = 3\n",
    "num_linhas = -(-len(outliers_por_temporada) // num_colunas)\n",
    "fig, axs = plt.subplots(num_linhas, num_colunas, figsize=(15, 5*num_linhas))\n",
    "palette = sns.color_palette(\"husl\", n_colors=len(outliers_por_temporada))\n",
    "\n",
    "for i, (temporada, outliers) in enumerate(outliers_por_temporada.items()):\n",
    "    linha = i // num_colunas\n",
    "    coluna = i % num_colunas\n",
    "    ax = axs[linha, coluna] if num_linhas > 1 else axs[coluna]\n",
    "    \n",
    "    episodios_temporada = episodios[(episodios['temporada'] == temporada)]\n",
    "    \n",
    "    sns.violinplot(y='num_votos', data=episodios_temporada, ax=ax, palette=[palette[i]])\n",
    "    ax.set_title(f'Temporada {temporada}')\n",
    "    ax.set_xlabel('Episódios')\n",
    "    ax.set_ylabel('Número de Votos')\n",
    "\n",
    "plt.tight_layout()\n",
    "plt.show()"
   ]
  },
  {
   "cell_type": "markdown",
   "metadata": {},
   "source": [
    "### 5.2 Existem episódios outliers em termos de avaliação recebida?\n"
   ]
  },
  {
   "cell_type": "markdown",
   "metadata": {},
   "source": [
    "Para esta análise categorizaremos outliers os episódios cuja avaliação passe a média da série somada com dois vezes o desvio padrão, ou episódios cuja avaliação seja inferior à média da série subtraida por dois vezes o desvio padrão."
   ]
  },
  {
   "cell_type": "code",
   "execution_count": null,
   "metadata": {},
   "outputs": [
    {
     "ename": "",
     "evalue": "",
     "output_type": "error",
     "traceback": [
      "\u001b[1;31mFailed to start the Kernel. \n",
      "\u001b[1;31mUnable to start Kernel 'base (Python 3.11.5)' due to a timeout waiting for the ports to get used. \n",
      "\u001b[1;31mView Jupyter <a href='command:jupyter.viewOutput'>log</a> for further details."
     ]
    }
   ],
   "source": [
    "# INSIRA SEU CÓDIGO AQUI\n",
    "media = episodios['avaliacao_media'].mean()\n",
    "desvio_padrao = episodios['avaliacao_media'].std()\n",
    "\n",
    "\n",
    "limite_maximo = media + 2 * desvio_padrao\n",
    "limite_minino = media - 2 * desvio_padrao\n",
    "\n",
    "outliers = episodios[(episodios['avaliacao_media'] > limite_maximo) | (episodios['avaliacao_media'] < limite_minino)]\n",
    "\n",
    "print(\"Outliers:\")\n",
    "print(outliers.to_string(index=False))\n"
   ]
  },
  {
   "cell_type": "markdown",
   "metadata": {},
   "source": [
    "É fácil notar que a maioria dos outliers possuem avaliações inferior à média geral da série, demonstrando que a série deve possuir mais episódios com notas altas ou médias do que baixas. O Gráfico 5.3 retrata a distribuição das avaliações da série , que estão mais centradas na parte superior do gráfico, enquanto apenas alguns outliers aparecem na parte inferior."
   ]
  },
  {
   "cell_type": "markdown",
   "metadata": {},
   "source": [
    "#### Gráfico 5.3"
   ]
  },
  {
   "cell_type": "code",
   "execution_count": null,
   "metadata": {},
   "outputs": [
    {
     "ename": "",
     "evalue": "",
     "output_type": "error",
     "traceback": [
      "\u001b[1;31mFailed to start the Kernel. \n",
      "\u001b[1;31mUnable to start Kernel 'base (Python 3.11.5)' due to a timeout waiting for the ports to get used. \n",
      "\u001b[1;31mView Jupyter <a href='command:jupyter.viewOutput'>log</a> for further details."
     ]
    }
   ],
   "source": [
    "sns.violinplot(y=episodios['avaliacao_media'])\n",
    "plt.title('Distribuição das avaliações da série')\n",
    "plt.xlabel('Episódios')\n",
    "plt.ylabel('Avaliação dos episódios')\n",
    "plt.show()"
   ]
  },
  {
   "cell_type": "markdown",
   "metadata": {},
   "source": [
    "Agora analisaremos com base nas avaliações médias de suas respectivas temporadas e vejamos quantos outiliers conseguimos encontrar desta forma."
   ]
  },
  {
   "cell_type": "code",
   "execution_count": null,
   "metadata": {},
   "outputs": [
    {
     "ename": "",
     "evalue": "",
     "output_type": "error",
     "traceback": [
      "\u001b[1;31mFailed to start the Kernel. \n",
      "\u001b[1;31mUnable to start Kernel 'base (Python 3.11.5)' due to a timeout waiting for the ports to get used. \n",
      "\u001b[1;31mView Jupyter <a href='command:jupyter.viewOutput'>log</a> for further details."
     ]
    }
   ],
   "source": [
    "# Calcule a média e o desvio padrão por temporada\n",
    "media_por_temporada = episodios.groupby('temporada')['avaliacao_media'].mean()\n",
    "desvio_padrao_por_temporada = episodios.groupby('temporada')['avaliacao_media'].std()\n",
    "\n",
    "# Identifique outliers por temporada\n",
    "\n",
    "outliers_por_temporada2 = {}\n",
    "for temporada, media, desvio_padrao in zip(media_por_temporada.index, media_por_temporada.values, desvio_padrao_por_temporada.values):\n",
    "    limite_superior = media + 2 * desvio_padrao\n",
    "    limite_inferior = media - 2 * desvio_padrao\n",
    "    outliers_temporada = episodios[(episodios['temporada'] == temporada) & ((episodios['avaliacao_media'] > limite_superior) | (episodios['avaliacao_media'] < limite_inferior))]\n",
    "    if not outliers_temporada.empty:\n",
    "        outliers_por_temporada2[temporada] = outliers_temporada\n",
    "\n",
    "# Imprima os outliers por temporada, se existirem\n",
    "for temporada, outliers in outliers_por_temporada2.items():\n",
    "    print(f\"Outliers da temporada {temporada}:\")\n",
    "    print(outliers.to_string(index=False))\n",
    "    print(\"\\n\")\n"
   ]
  },
  {
   "cell_type": "markdown",
   "metadata": {},
   "source": [
    "É notório que há menos outliers quando analisamos desta forma e que os outliers estão perfeitamente divididos entre os acimas da média e os abaixo dela, possuindo três de cada. Também é interessante reparar na sétima temporada, pois a mesma possui dois outliers extremos, um sendo uma avaliação bem acima da média e o outro sendo muito abaixo da média da temporada, demonstrando ser uma temporada de dois extremos. O Gráfico 5.4 exprime como ficou a distribuição das avaliações por temporada."
   ]
  },
  {
   "cell_type": "markdown",
   "metadata": {},
   "source": [
    "#### Gráfico 5.4"
   ]
  },
  {
   "cell_type": "code",
   "execution_count": null,
   "metadata": {},
   "outputs": [
    {
     "ename": "",
     "evalue": "",
     "output_type": "error",
     "traceback": [
      "\u001b[1;31mFailed to start the Kernel. \n",
      "\u001b[1;31mUnable to start Kernel 'base (Python 3.11.5)' due to a timeout waiting for the ports to get used. \n",
      "\u001b[1;31mView Jupyter <a href='command:jupyter.viewOutput'>log</a> for further details."
     ]
    }
   ],
   "source": [
    "import seaborn as sns\n",
    "import matplotlib.pyplot as plt\n",
    "\n",
    "sns.set(style=\"whitegrid\")\n",
    "\n",
    "num_colunas = 3\n",
    "num_linhas = -(-len(outliers_por_temporada2) // num_colunas)\n",
    "fig, axs = plt.subplots(num_linhas, num_colunas, figsize=(15, 5*num_linhas))\n",
    "palette = sns.color_palette(\"husl\", n_colors=len(outliers_por_temporada2))\n",
    "\n",
    "for i, (temporada, outliers) in enumerate(outliers_por_temporada2.items()):\n",
    "    linha = i // num_colunas\n",
    "    coluna = i % num_colunas\n",
    "    ax = axs[linha, coluna] if num_linhas > 1 else axs[coluna]\n",
    "    \n",
    "    episodios_temporada = episodios[episodios['temporada'] == temporada]\n",
    "    \n",
    "    sns.violinplot(y='avaliacao_media', data=episodios_temporada, ax=ax, color=palette[i])\n",
    "    ax.set_title(f'Temporada {temporada}')\n",
    "    ax.set_xlabel('Episódios')\n",
    "    ax.set_ylabel('Avaliação Média')\n",
    "\n",
    "plt.tight_layout()\n",
    "plt.show()"
   ]
  },
  {
   "cell_type": "markdown",
   "metadata": {},
   "source": [
    "## Outras análises\n",
    "\n",
    "Fique livre para explorar outras análises, fazer novas perguntas e comparar padrões nos dados de uma série com os de outra série."
   ]
  }
 ],
 "metadata": {
  "kernelspec": {
   "display_name": "Python 3 (ipykernel)",
   "language": "python",
   "name": "python3"
  },
  "language_info": {
   "codemirror_mode": {
    "name": "ipython",
    "version": 3
   },
   "file_extension": ".py",
   "mimetype": "text/x-python",
   "name": "python",
   "nbconvert_exporter": "python",
   "pygments_lexer": "ipython3",
   "version": "3.11.5"
  },
  "vscode": {
   "interpreter": {
    "hash": "aee8b7b246df8f9039afb4144a1f6fd8d2ca17a180786b69acc140d282b71a49"
   }
  }
 },
 "nbformat": 4,
 "nbformat_minor": 2
}
